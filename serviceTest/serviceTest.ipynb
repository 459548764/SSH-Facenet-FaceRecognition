{
 "cells": [
  {
   "cell_type": "code",
   "execution_count": 1,
   "metadata": {},
   "outputs": [],
   "source": [
    "import requests\n",
    "import cv2\n",
    "import json\n",
    "\n"
   ]
  },
  {
   "cell_type": "code",
   "execution_count": 2,
   "metadata": {},
   "outputs": [
    {
     "name": "stdout",
     "output_type": "stream",
     "text": [
      "[[248.10397338867188, 133.8763885498047, 363.26617431640625, 291.29522705078125, 0.9999234676361084]]\n"
     ]
    }
   ],
   "source": [
    "#测试人脸检测服务，返回人脸边界框的相关参数（左上顶点与右下顶点的坐标值及边界框内包含人脸的置信度）\n",
    "# Test the face detection service and return relevant parameters of the face bounding box \n",
    "#(coordinate values of the upper left and lower right vertices and the confidence of the face within the bounding box)\n",
    "url='http://127.0.0.1:9004'\n",
    "img = cv2.imread('000_0.bmp')\n",
    "import urllib3\n",
    "http = urllib3.PoolManager()\n",
    "r = http.request('POST', url, fields={'im':('i.jpg', cv2.imencode('.jpg', img)[1])})\n",
    "print eval(r.data)\n",
    "#data = {\"im\": str(img.tolist()).encode('base64')}\n",
    "#res= requests.post(url, data=data)\n",
    "#print res.text"
   ]
  },
  {
   "cell_type": "code",
   "execution_count": 3,
   "metadata": {},
   "outputs": [
    {
     "name": "stdout",
     "output_type": "stream",
     "text": [
      "[[247.9527587890625, 133.91722106933594, 363.0661926269531, 291.802978515625, 0.999914288520813]]\n"
     ]
    }
   ],
   "source": [
    "#测试人脸检测服务，返回人脸边界框的相关参数（左上顶点与右下顶点的坐标值及边界框内包含人脸的置信度）\n",
    "# Test the face detection service and return relevant parameters of the face bounding box \n",
    "#(coordinate values of the upper left and lower right vertices and the confidence of the face within the bounding box)\n",
    "url='http://127.0.0.1:9004'\n",
    "from PIL import Image\n",
    "#img=cv2.imread('000_0.bmp')\n",
    "\n",
    "#print(img.shape)\n",
    "#print(img)\n",
    "img=open('000_0.bmp', 'rb')\n",
    "#print(img)\n",
    "files = {'im':img}\n",
    "#data={'im':img}\n",
    "res=requests.post(url,files=files)\n",
    "a=eval(res.text)\n",
    "print(a)"
   ]
  },
  {
   "cell_type": "code",
   "execution_count": 4,
   "metadata": {},
   "outputs": [
    {
     "name": "stdout",
     "output_type": "stream",
     "text": [
      "[0.6845547556877136]\n"
     ]
    }
   ],
   "source": [
    "#测试人脸验证服务，两幅图中人脸的差异值（可设定一个阈值：当差异值>阈值，则不是同一个人；反之则为同一个人）\n",
    "# Test face authentication service and return the difference value of face in the two figures\n",
    "#(a threshold can be set: when the difference value>threshold, it is not the same person;\n",
    "#otherwise it is the same person)\n",
    "import requests\n",
    "im1=open('000_0.bmp', 'rb')\n",
    "im2=open('000_2.bmp', 'rb')\n",
    "url='http://127.0.0.1:9010'\n",
    "files = {'im1':im1,'im2':im2}\n",
    "res=requests.post(url,files=files)\n",
    "# files = {'im':im2}\n",
    "#res=requests.post(url,files=files)\n",
    "print res.text\n"
   ]
  },
  {
   "cell_type": "code",
   "execution_count": null,
   "metadata": {},
   "outputs": [],
   "source": []
  }
 ],
 "metadata": {
  "anaconda-cloud": {},
  "kernelspec": {
   "display_name": "Python 2",
   "language": "python",
   "name": "python2"
  },
  "language_info": {
   "codemirror_mode": {
    "name": "ipython",
    "version": 2
   },
   "file_extension": ".py",
   "mimetype": "text/x-python",
   "name": "python",
   "nbconvert_exporter": "python",
   "pygments_lexer": "ipython2",
   "version": "2.7.13"
  }
 },
 "nbformat": 4,
 "nbformat_minor": 2
}
