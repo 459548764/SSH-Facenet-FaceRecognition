{
 "cells": [
  {
   "cell_type": "code",
   "execution_count": 1,
   "metadata": {},
   "outputs": [],
   "source": [
    "import requests\n",
    "import cv2\n",
    "import json\n",
    "\n"
   ]
  },
  {
   "cell_type": "code",
   "execution_count": 2,
   "metadata": {},
   "outputs": [
    {
     "name": "stdout",
     "output_type": "stream",
     "text": [
      "[[248.10397338867188, 133.8763885498047, 363.26617431640625, 291.29522705078125, 0.9999234676361084]]\n"
     ]
    }
   ],
   "source": [
    "url='http://127.0.0.1:9004'\n",
    "img = cv2.imread('000_0.bmp')\n",
    "import urllib3\n",
    "http = urllib3.PoolManager()\n",
    "r = http.request('POST', url, fields={'im':('i.jpg', cv2.imencode('.jpg', img)[1])})\n",
    "print eval(r.data)\n",
    "#data = {\"im\": str(img.tolist()).encode('base64')}\n",
    "#res= requests.post(url, data=data)\n",
    "#print res.text"
   ]
  },
  {
   "cell_type": "code",
   "execution_count": 3,
   "metadata": {},
   "outputs": [
    {
     "name": "stdout",
     "output_type": "stream",
     "text": [
      "[[247.9527587890625, 133.91722106933594, 363.0661926269531, 291.802978515625, 0.999914288520813]]\n"
     ]
    }
   ],
   "source": [
    "url='http://127.0.0.1:9004'\n",
    "from PIL import Image\n",
    "#img=cv2.imread('000_0.bmp')\n",
    "\n",
    "#print(img.shape)\n",
    "#print(img)\n",
    "img=open('000_0.bmp', 'rb')\n",
    "#print(img)\n",
    "files = {'im':img}\n",
    "#data={'im':img}\n",
    "res=requests.post(url,files=files)\n",
    "a=eval(res.text)\n",
    "print(a)"
   ]
  },
  {
   "cell_type": "code",
   "execution_count": 6,
   "metadata": {
    "scrolled": false
   },
   "outputs": [
    {
     "name": "stdout",
     "output_type": "stream",
     "text": [
      "251.3686981201172, 159.03355407714844, 364.2047424316406, 313.70318603515625, 0.9999781847000122\n",
      "{0: [251.3686981201172, 159.03355407714844, 364.2047424316406, 313.70318603515625]}\n"
     ]
    }
   ],
   "source": [
    "a=res.text\n",
    "a=a.split('\\n')\n",
    "boxes=[]\n",
    "for x in a:\n",
    "    \n",
    "    x=x.strip()\n",
    "    x=x.strip('[')\n",
    "    x=x.strip(']')\n",
    "    print(x)\n",
    "    boxes.append(x)\n",
    "#print((boxes))\n",
    "dic={}\n",
    "\n",
    "for i,box in enumerate(boxes):\n",
    "\n",
    "    box=box.split(',')\n",
    "    if float(box[4])<0.9:\n",
    "        continue\n",
    "    #print(box)\n",
    "    numbers=[]\n",
    "    for t in box[0:4]:\n",
    "        num=float(t)\n",
    "        numbers.append(num)\n",
    "    dic[i]=numbers\n",
    "    \n",
    "print(dic)"
   ]
  },
  {
   "cell_type": "code",
   "execution_count": 4,
   "metadata": {},
   "outputs": [
    {
     "data": {
      "text/plain": [
       "1"
      ]
     },
     "execution_count": 4,
     "metadata": {},
     "output_type": "execute_result"
    }
   ],
   "source": [
    "len (dic)"
   ]
  },
  {
   "cell_type": "code",
   "execution_count": 5,
   "metadata": {},
   "outputs": [],
   "source": [
    "import cv2\n"
   ]
  },
  {
   "cell_type": "code",
   "execution_count": 6,
   "metadata": {},
   "outputs": [],
   "source": [
    "img = cv2.imread('/home/czh/9401.jpg')\n",
    "\n"
   ]
  },
  {
   "cell_type": "code",
   "execution_count": 7,
   "metadata": {},
   "outputs": [
    {
     "name": "stdout",
     "output_type": "stream",
     "text": [
      "[118.238528, 51.534546, 74.38116400000001, 74.38116400000001]\n"
     ]
    }
   ],
   "source": [
    "box=dic[0]\n",
    "box1=[box[0],box[1],box[2]-box[0],box[3]-box[1]]\n",
    "\n",
    "if box1[2]>=box1[3]:\n",
    "    diff=box1[2]-box1[3]\n",
    "    box1[3]=box1[2]\n",
    "    box1[1]=box1[1]-diff/2\n",
    "else:\n",
    "    diff=box1[3]-box1[2]\n",
    "    box1[2]=box1[3]\n",
    "    box1[0]=box1[0]-diff/2\n",
    "print(box1)"
   ]
  },
  {
   "cell_type": "code",
   "execution_count": 8,
   "metadata": {},
   "outputs": [],
   "source": [
    "from skimage.transform import resize\n",
    "(x, y, w, h) = box1\n",
    "image_size=160\n",
    "aligned_images=[]\n",
    "margin=0\n",
    "cropped = img[int(y)-margin//2:int(y)+int(h)+margin//2,int(x)-margin//2:int(x)+int(w)+margin//2,:]\n",
    "aligned = resize(cropped, (image_size, image_size), mode='reflect')\n",
    "aligned_images.append(aligned)"
   ]
  },
  {
   "cell_type": "code",
   "execution_count": null,
   "metadata": {},
   "outputs": [],
   "source": [
    "cv2.imshow('000',aligned_images[0]) \n",
    "cv2.waitKey(0)\n"
   ]
  },
  {
   "cell_type": "code",
   "execution_count": 10,
   "metadata": {},
   "outputs": [],
   "source": [
    "from skimage.transform import resize\n",
    "image_size=160\n",
    "aligned_images=[]\n",
    "for k,box in dic.items():\n",
    "    box1=[box[0],box[1],box[2]-box[0],box[3]-box[1]]\n",
    "    (x, y, w, h) = box1\n",
    "    margin=50\n",
    "    cropped = img[int(y)-margin//2:int(y)+int(h)+margin//2,int(x)-margin//2:int(x)+int(w)+margin//2,:]\n",
    "    aligned = resize(cropped, (image_size, image_size), mode='reflect')\n",
    "    aligned_images.append(aligned)"
   ]
  },
  {
   "cell_type": "code",
   "execution_count": 11,
   "metadata": {},
   "outputs": [
    {
     "data": {
      "text/plain": [
       "2"
      ]
     },
     "execution_count": 11,
     "metadata": {},
     "output_type": "execute_result"
    }
   ],
   "source": [
    "len(aligned_images)"
   ]
  },
  {
   "cell_type": "code",
   "execution_count": 12,
   "metadata": {},
   "outputs": [
    {
     "data": {
      "text/plain": [
       "-1"
      ]
     },
     "execution_count": 12,
     "metadata": {},
     "output_type": "execute_result"
    }
   ],
   "source": [
    "cv2.imshow('000',aligned_images[0]) \n",
    "cv2.waitKey(0)\n"
   ]
  },
  {
   "cell_type": "code",
   "execution_count": 4,
   "metadata": {},
   "outputs": [
    {
     "name": "stdout",
     "output_type": "stream",
     "text": [
      "[0.6845547556877136]\n"
     ]
    }
   ],
   "source": [
    "import requests\n",
    "im1=open('000_0.bmp', 'rb')\n",
    "im2=open('000_2.bmp', 'rb')\n",
    "url='http://127.0.0.1:9010'\n",
    "files = {'im1':im1,'im2':im2}\n",
    "res=requests.post(url,files=files)\n",
    "# files = {'im':im2}\n",
    "#res=requests.post(url,files=files)\n",
    "print res.text\n"
   ]
  },
  {
   "cell_type": "code",
   "execution_count": 53,
   "metadata": {},
   "outputs": [],
   "source": [
    "tttt={'a':' '}"
   ]
  },
  {
   "cell_type": "code",
   "execution_count": 54,
   "metadata": {},
   "outputs": [
    {
     "data": {
      "text/plain": [
       "' '"
      ]
     },
     "execution_count": 54,
     "metadata": {},
     "output_type": "execute_result"
    }
   ],
   "source": [
    "tttt['a']"
   ]
  },
  {
   "cell_type": "code",
   "execution_count": null,
   "metadata": {},
   "outputs": [],
   "source": []
  }
 ],
 "metadata": {
  "anaconda-cloud": {},
  "kernelspec": {
   "display_name": "Python 2",
   "language": "python",
   "name": "python2"
  },
  "language_info": {
   "codemirror_mode": {
    "name": "ipython",
    "version": 2
   },
   "file_extension": ".py",
   "mimetype": "text/x-python",
   "name": "python",
   "nbconvert_exporter": "python",
   "pygments_lexer": "ipython2",
   "version": "2.7.12"
  }
 },
 "nbformat": 4,
 "nbformat_minor": 2
}
