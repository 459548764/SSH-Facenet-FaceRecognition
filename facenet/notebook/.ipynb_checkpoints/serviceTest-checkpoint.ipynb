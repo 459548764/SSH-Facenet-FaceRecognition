{
 "cells": [
  {
   "cell_type": "code",
   "execution_count": 73,
   "metadata": {},
   "outputs": [],
   "source": [
    "import requests"
   ]
  },
  {
   "cell_type": "code",
   "execution_count": 74,
   "metadata": {},
   "outputs": [
    {
     "name": "stdout",
     "output_type": "stream",
     "text": [
      "[[9.6525214e+02 9.5339638e+01 1.2063877e+03 4.2817169e+02 9.9999952e-01]\n",
      " [2.3225972e+02 9.3449661e+01 4.7803958e+02 4.3060892e+02 9.9999940e-01]]\n"
     ]
    }
   ],
   "source": [
    "url='http://127.0.0.1:9004'\n",
    "files = {'im': open('/home/czh/timg.jpg', 'rb')}\n",
    "res=requests.post(url,files=files)\n",
    "print res.text"
   ]
  },
  {
   "cell_type": "code",
   "execution_count": 75,
   "metadata": {},
   "outputs": [
    {
     "name": "stdout",
     "output_type": "stream",
     "text": [
      "[[9.6525214e+02 9.5339638e+01 1.2063877e+03 4.2817169e+02 9.9999952e-01]\n",
      "9.6525214e+02 9.5339638e+01 1.2063877e+03 4.2817169e+02 9.9999952e-01\n",
      " [2.3225972e+02 9.3449661e+01 4.7803958e+02 4.3060892e+02 9.9999940e-01]]\n",
      "2.3225972e+02 9.3449661e+01 4.7803958e+02 4.3060892e+02 9.9999940e-01\n",
      "[u'9.6525214e+02 9.5339638e+01 1.2063877e+03 4.2817169e+02 9.9999952e-01', u'2.3225972e+02 9.3449661e+01 4.7803958e+02 4.3060892e+02 9.9999940e-01']\n",
      "[u'9.6525214', u'02']\n",
      "[u'9.5339638', u'01']\n",
      "[u'1.2063877', u'03']\n",
      "[u'4.2817169', u'02']\n",
      "[u'2.3225972', u'02']\n",
      "[u'9.3449661', u'01']\n",
      "[u'4.7803958', u'02']\n",
      "[u'4.3060892', u'02']\n",
      "{0: [965.2521399999999, 95.33963800000001, 1206.3877, 428.17169], 1: [232.25972000000002, 93.449661, 478.03958, 430.60891999999996]}\n"
     ]
    }
   ],
   "source": [
    "a=res.text\n",
    "a=a.split('\\n')\n",
    "boxes=[]\n",
    "for x in a:\n",
    "    print(x)\n",
    "    x=x.strip()\n",
    "    x=x.strip('[')\n",
    "    x=x.strip(']')\n",
    "    print(x)\n",
    "    boxes.append(x)\n",
    "print((boxes))\n",
    "dic={}\n",
    "\n",
    "for i,box in enumerate(boxes):\n",
    "    box=box.split(' ')\n",
    "    numbers=[]\n",
    "    for t in box[0:4]:\n",
    "        p=t.split('e+')\n",
    "        print(p)\n",
    "        num=float(p[0])*(10**int(p[1]))\n",
    "        numbers.append(num)\n",
    "    dic[i]=numbers\n",
    "    \n",
    "print(dic)"
   ]
  },
  {
   "cell_type": "code",
   "execution_count": 1,
   "metadata": {},
   "outputs": [],
   "source": [
    "dic={0: [965.2521399999999, 95.33963800000001, 1206.3877, 428.17169], 1: [232.25972000000002, 93.449661, 478.03958, 430.60891999999996]}\n"
   ]
  },
  {
   "cell_type": "code",
   "execution_count": 9,
   "metadata": {},
   "outputs": [
    {
     "data": {
      "text/plain": [
       "2"
      ]
     },
     "execution_count": 9,
     "metadata": {},
     "output_type": "execute_result"
    }
   ],
   "source": [
    "len (dic)"
   ]
  },
  {
   "cell_type": "code",
   "execution_count": 2,
   "metadata": {},
   "outputs": [],
   "source": [
    "import cv2\n"
   ]
  },
  {
   "cell_type": "code",
   "execution_count": 3,
   "metadata": {},
   "outputs": [
    {
     "name": "stdout",
     "output_type": "stream",
     "text": [
      "[[[190 189 193]\n",
      "  [192 191 195]\n",
      "  [194 193 197]\n",
      "  ...\n",
      "  [186 185 189]\n",
      "  [188 187 191]\n",
      "  [188 187 191]]\n",
      "\n",
      " [[193 192 196]\n",
      "  [193 192 196]\n",
      "  [193 192 196]\n",
      "  ...\n",
      "  [186 185 189]\n",
      "  [187 186 190]\n",
      "  [187 186 190]]\n",
      "\n",
      " [[193 192 196]\n",
      "  [193 192 196]\n",
      "  [192 191 195]\n",
      "  ...\n",
      "  [186 185 189]\n",
      "  [187 186 190]\n",
      "  [187 186 190]]\n",
      "\n",
      " ...\n",
      "\n",
      " [[173 172 176]\n",
      "  [173 172 176]\n",
      "  [174 173 177]\n",
      "  ...\n",
      "  [184 185 189]\n",
      "  [185 186 190]\n",
      "  [187 188 192]]\n",
      "\n",
      " [[173 172 176]\n",
      "  [173 172 176]\n",
      "  [174 173 177]\n",
      "  ...\n",
      "  [185 186 190]\n",
      "  [184 185 189]\n",
      "  [186 187 191]]\n",
      "\n",
      " [[173 172 176]\n",
      "  [173 172 176]\n",
      "  [173 172 176]\n",
      "  ...\n",
      "  [186 187 191]\n",
      "  [186 187 191]\n",
      "  [187 188 192]]]\n"
     ]
    }
   ],
   "source": [
    "\n",
    "img = cv2.imread('timg.jpg')\n",
    "img.size\n",
    "print(img)"
   ]
  },
  {
   "cell_type": "code",
   "execution_count": 6,
   "metadata": {},
   "outputs": [
    {
     "data": {
      "text/plain": [
       "-1"
      ]
     },
     "execution_count": 6,
     "metadata": {},
     "output_type": "execute_result"
    }
   ],
   "source": [
    "cv2.imshow('000', img) \n",
    "cv2.waitKey(0)\n"
   ]
  },
  {
   "cell_type": "code",
   "execution_count": 4,
   "metadata": {},
   "outputs": [
    {
     "data": {
      "text/plain": [
       "[965.2521399999999, 95.33963800000001, 241.13556000000005, 332.832052]"
      ]
     },
     "execution_count": 4,
     "metadata": {},
     "output_type": "execute_result"
    }
   ],
   "source": [
    "box=dic[0]\n",
    "box1=[box[0],box[1],box[2]-box[0],box[3]-box[1]]\n",
    "box1"
   ]
  },
  {
   "cell_type": "code",
   "execution_count": 15,
   "metadata": {},
   "outputs": [],
   "source": [
    "from skimage.transform import resize\n",
    "(x, y, w, h) = box1\n",
    "image_size=160\n",
    "aligned_images=[]\n",
    "margin=50\n",
    "cropped = img[int(y)-margin//2:int(y)+int(h)+margin//2,int(x)-margin//2:int(x)+int(w)+margin//2,:]\n",
    "aligned = resize(cropped, (image_size, image_size), mode='reflect')\n",
    "aligned_images.append(aligned)"
   ]
  },
  {
   "cell_type": "code",
   "execution_count": 16,
   "metadata": {},
   "outputs": [
    {
     "data": {
      "text/plain": [
       "-1"
      ]
     },
     "execution_count": 16,
     "metadata": {},
     "output_type": "execute_result"
    }
   ],
   "source": [
    "cv2.imshow('000',aligned_images[0]) \n",
    "cv2.waitKey(0)\n"
   ]
  },
  {
   "cell_type": "code",
   "execution_count": 18,
   "metadata": {},
   "outputs": [],
   "source": [
    "from skimage.transform import resize\n",
    "image_size=160\n",
    "aligned_images=[]\n",
    "for k,box in dic.items():\n",
    "    box1=[box[0],box[1],box[2]-box[0],box[3]-box[1]]\n",
    "    (x, y, w, h) = box1\n",
    "    margin=50\n",
    "    cropped = img[int(y)-margin//2:int(y)+int(h)+margin//2,int(x)-margin//2:int(x)+int(w)+margin//2,:]\n",
    "    aligned = resize(cropped, (image_size, image_size), mode='reflect')\n",
    "    aligned_images.append(aligned)"
   ]
  },
  {
   "cell_type": "code",
   "execution_count": 19,
   "metadata": {},
   "outputs": [
    {
     "data": {
      "text/plain": [
       "2"
      ]
     },
     "execution_count": 19,
     "metadata": {},
     "output_type": "execute_result"
    }
   ],
   "source": [
    "len(aligned_images)"
   ]
  },
  {
   "cell_type": "code",
   "execution_count": 21,
   "metadata": {},
   "outputs": [
    {
     "data": {
      "text/plain": [
       "-1"
      ]
     },
     "execution_count": 21,
     "metadata": {},
     "output_type": "execute_result"
    }
   ],
   "source": [
    "cv2.imshow('000',aligned_images[0]) \n",
    "cv2.waitKey(0)\n"
   ]
  },
  {
   "cell_type": "code",
   "execution_count": null,
   "metadata": {},
   "outputs": [],
   "source": []
  }
 ],
 "metadata": {
  "anaconda-cloud": {},
  "kernelspec": {
   "display_name": "Python [default]",
   "language": "python",
   "name": "python3"
  },
  "language_info": {
   "codemirror_mode": {
    "name": "ipython",
    "version": 3
   },
   "file_extension": ".py",
   "mimetype": "text/x-python",
   "name": "python",
   "nbconvert_exporter": "python",
   "pygments_lexer": "ipython3",
   "version": "3.5.2"
  }
 },
 "nbformat": 4,
 "nbformat_minor": 2
}
